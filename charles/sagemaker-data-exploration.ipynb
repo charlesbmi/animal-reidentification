{
 "cells": [
  {
   "cell_type": "code",
   "execution_count": 7,
   "id": "86629c57",
   "metadata": {},
   "outputs": [],
   "source": [
    "import sagemaker\n",
    "from sagemaker.pytorch import PyTorch\n",
    "from sagemaker.tuner import HyperparameterTuner, IntegerParameter, CategoricalParameter, ContinuousParameter\n",
    "import s3fs\n",
    "\n",
    "import pandas as pd\n",
    "\n",
    "import os\n",
    "import json"
   ]
  },
  {
   "cell_type": "code",
   "execution_count": 2,
   "id": "a7b1d685",
   "metadata": {},
   "outputs": [],
   "source": [
    "sagemaker_session = sagemaker.Session()\n",
    "\n",
    "bucket = 'animal-reidentification'\n",
    "\n",
    "role = sagemaker.get_execution_role()"
   ]
  },
  {
   "cell_type": "code",
   "execution_count": 3,
   "id": "5369440a",
   "metadata": {},
   "outputs": [
    {
     "name": "stdout",
     "output_type": "stream",
     "text": [
      "animal-reidentification arn:aws:iam::974431750608:role/service-role/AmazonSageMaker-ExecutionRole-20210503T160271\n",
      "/home/ec2-user/SageMaker/animal-reidentification/charles\n"
     ]
    }
   ],
   "source": [
    "print(bucket, role)\n",
    "print(os.getcwd())"
   ]
  },
  {
   "cell_type": "code",
   "execution_count": 12,
   "id": "4a2f1ec9",
   "metadata": {},
   "outputs": [],
   "source": [
    "fs = s3fs.S3FileSystem()\n",
    "\n",
    "data_key = 'labels.json'\n",
    "data_location = 's3://{}/{}'.format(bucket, data_key)\n",
    "\n",
    "with fs.open(data_location, 'r') as label_file:\n",
    "    labels = json.load(label_file)"
   ]
  },
  {
   "cell_type": "code",
   "execution_count": 73,
   "id": "fb810c18",
   "metadata": {},
   "outputs": [
    {
     "data": {
      "text/plain": [
       "IBEIS_PZ_1594    28\n",
       "IBEIS_PZ_1602    24\n",
       "IBEIS_PZ_1424    22\n",
       "IBEIS_PZ_1111    22\n",
       "IBEIS_PZ_1250    22\n",
       "                 ..\n",
       "IBEIS_PZ_0534     1\n",
       "IBEIS_PZ_0642     1\n",
       "IBEIS_PZ_1716     1\n",
       "IBEIS_PZ_1853     1\n",
       "IBEIS_PZ_0533     1\n",
       "Length: 1905, dtype: int64"
      ]
     },
     "execution_count": 73,
     "metadata": {},
     "output_type": "execute_result"
    }
   ],
   "source": [
    "name_list = [annot['name'] for annot in labels['annotations']]\n",
    "name_ser = pd.Series(name_list)\n",
    "name_counts = name_ser.value_counts()\n",
    "# Filter for zebras\n",
    "name_counts = name_counts.loc[name_counts.index.str.startswith('IBEIS_PZ')]\n",
    "\n",
    "# Print a few of the name counts\n",
    "name_counts"
   ]
  },
  {
   "cell_type": "code",
   "execution_count": 74,
   "id": "8f4ab0ef",
   "metadata": {},
   "outputs": [
    {
     "data": {
      "image/png": "[encoded data removed]",
      "text/plain": [
       "<Figure size 432x288 with 1 Axes>"
      ]
     },
     "metadata": {
      "needs_background": "light"
     },
     "output_type": "display_data"
    }
   ],
   "source": [
    "# Plot style 1: x-axis = each individual\n",
    "ax = sns.barplot(x=name_counts.index, y=name_counts)"
   ]
  },
  {
   "cell_type": "code",
   "execution_count": 77,
   "id": "35270518",
   "metadata": {},
   "outputs": [
    {
     "data": {
      "text/plain": [
       "Text(0, 0.5, 'count (individuals)')"
      ]
     },
     "execution_count": 77,
     "metadata": {},
     "output_type": "execute_result"
    },
    {
     "data": {
      "image/png": "[encoded data removed]",
      "text/plain": [
       "<Figure size 432x288 with 1 Axes>"
      ]
     },
     "metadata": {
      "needs_background": "light"
     },
     "output_type": "display_data"
    }
   ],
   "source": [
    "# Plot style 2: x-axis = image count\n",
    "\n",
    "# Distribution of images per zebra\n",
    "ax = sns.histplot(name_counts, discrete=True)\n",
    "ax.set_xlim([0, name_counts.iloc[1]])\n",
    "ax.set_title('Frequency of images / individual\\n(count sums to total individuals)')\n",
    "ax.set_xlabel('images / individual')\n",
    "ax.set_ylabel('count (individuals)')"
   ]
  },
  {
   "cell_type": "code",
   "execution_count": null,
   "id": "e0b2c778",
   "metadata": {},
   "outputs": [],
   "source": []
  }
 ],
 "metadata": {
  "kernelspec": {
   "display_name": "conda_pytorch_p36",
   "language": "python",
   "name": "conda_pytorch_p36"
  },
  "language_info": {
   "codemirror_mode": {
    "name": "ipython",
    "version": 3
   },
   "file_extension": ".py",
   "mimetype": "text/x-python",
   "name": "python",
   "nbconvert_exporter": "python",
   "pygments_lexer": "ipython3",
   "version": "3.6.13"
  }
 },
 "nbformat": 4,
 "nbformat_minor": 5
}
