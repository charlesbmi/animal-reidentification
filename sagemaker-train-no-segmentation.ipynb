{
 "cells": [
  {
   "cell_type": "code",
   "execution_count": 1,
   "id": "ccd52e4a",
   "metadata": {},
   "outputs": [],
   "source": [
    "import sagemaker\n",
    "from sagemaker.pytorch import PyTorch\n",
    "from sagemaker.tuner import HyperparameterTuner, IntegerParameter, CategoricalParameter, ContinuousParameter\n",
    "import s3fs\n",
    "\n",
    "import os\n",
    "import json"
   ]
  },
  {
   "cell_type": "code",
   "execution_count": 2,
   "id": "4fb18cdb",
   "metadata": {},
   "outputs": [],
   "source": [
    "sagemaker_session = sagemaker.Session()\n",
    "\n",
    "bucket = 'animal-reidentification'\n",
    "\n",
    "role = sagemaker.get_execution_role()"
   ]
  },
  {
   "cell_type": "code",
   "execution_count": 3,
   "id": "724a9362",
   "metadata": {},
   "outputs": [
    {
     "name": "stdout",
     "output_type": "stream",
     "text": [
      "animal-reidentification arn:aws:iam::974431750608:role/service-role/AmazonSageMaker-ExecutionRole-20210503T160271\n",
      "/home/ec2-user/SageMaker/animal-reidentification\n"
     ]
    }
   ],
   "source": [
    "print(bucket, role)\n",
    "print(os.getcwd())"
   ]
  },
  {
   "cell_type": "code",
   "execution_count": 4,
   "id": "6912cf56",
   "metadata": {},
   "outputs": [
    {
     "name": "stdout",
     "output_type": "stream",
     "text": [
      "data_location: s3://animal-reidentification/data/\n",
      "annotations_location: s3://animal-reidentification/annotations/\n"
     ]
    }
   ],
   "source": [
    "data_location = f's3://{bucket}/data/'\n",
    "annotations_location = f's3://{bucket}/annotations/'\n",
    "\n",
    "print(f'data_location: {data_location}')\n",
    "print(f'annotations_location: {annotations_location}')"
   ]
  },
  {
   "cell_type": "markdown",
   "id": "b72e6b55",
   "metadata": {},
   "source": [
    "## Kick off the instance"
   ]
  },
  {
   "cell_type": "code",
   "execution_count": 5,
   "id": "a64e8605",
   "metadata": {},
   "outputs": [],
   "source": [
    "# Set hyperparameters\n",
    "model_name = 'im_noAug'\n",
    "batch_size = 64\n",
    "num_epochs = 15"
   ]
  },
  {
   "cell_type": "code",
   "execution_count": 6,
   "id": "786bcc80",
   "metadata": {},
   "outputs": [
    {
     "ename": "NameError",
     "evalue": "name 'im_noAug' is not defined",
     "output_type": "error",
     "traceback": [
      "\u001b[0;31m---------------------------------------------------------------------------\u001b[0m",
      "\u001b[0;31mNameError\u001b[0m                                 Traceback (most recent call last)",
      "\u001b[0;32m<ipython-input-6-7d2a6123c4bf>\u001b[0m in \u001b[0;36m<module>\u001b[0;34m\u001b[0m\n\u001b[1;32m     11\u001b[0m                         \u001b[0;34m'batch-size'\u001b[0m\u001b[0;34m:\u001b[0m \u001b[0mbatch_size\u001b[0m\u001b[0;34m,\u001b[0m\u001b[0;34m\u001b[0m\u001b[0;34m\u001b[0m\u001b[0m\n\u001b[1;32m     12\u001b[0m                         \u001b[0;34m'epochs'\u001b[0m\u001b[0;34m:\u001b[0m \u001b[0mnum_epochs\u001b[0m\u001b[0;34m,\u001b[0m\u001b[0;34m\u001b[0m\u001b[0;34m\u001b[0m\u001b[0m\n\u001b[0;32m---> 13\u001b[0;31m                         \u001b[0;34m'name'\u001b[0m\u001b[0;34m:\u001b[0m \u001b[0;34mf'{im_noAug}_{num_epochs}epoch_batch{batch_size}'\u001b[0m\u001b[0;34m,\u001b[0m\u001b[0;34m\u001b[0m\u001b[0;34m\u001b[0m\u001b[0m\n\u001b[0m\u001b[1;32m     14\u001b[0m                     })\n\u001b[1;32m     15\u001b[0m \u001b[0;34m\u001b[0m\u001b[0m\n",
      "\u001b[0;31mNameError\u001b[0m: name 'im_noAug' is not defined"
     ]
    }
   ],
   "source": [
    "from sagemaker.pytorch import PyTorch\n",
    "\n",
    "estimator = PyTorch(entry_point='denseNet201_v3.py',\n",
    "                    source_dir='./kevin/',\n",
    "                    framework_version='1.8.0',\n",
    "                    role=role,\n",
    "                    py_version='py3',\n",
    "                    instance_count=1,\n",
    "                    instance_type='ml.g4dn.xlarge', # Sagemaker-managed instance\n",
    "                    hyperparameters={\n",
    "                        'batch-size': batch_size,\n",
    "                        'epochs': num_epochs,\n",
    "                        'name': f'{model_name}_{num_epochs}epoch_batch{batch_size}',\n",
    "                    })\n",
    "\n",
    "estimator.fit({\n",
    "    'data': data_location,\n",
    "    'annotations': annotations_location\n",
    "})"
   ]
  },
  {
   "cell_type": "code",
   "execution_count": null,
   "id": "b13a1f42",
   "metadata": {},
   "outputs": [],
   "source": []
  }
 ],
 "metadata": {
  "kernelspec": {
   "display_name": "conda_pytorch_p36",
   "language": "python",
   "name": "conda_pytorch_p36"
  },
  "language_info": {
   "codemirror_mode": {
    "name": "ipython",
    "version": 3
   },
   "file_extension": ".py",
   "mimetype": "text/x-python",
   "name": "python",
   "nbconvert_exporter": "python",
   "pygments_lexer": "ipython3",
   "version": "3.6.13"
  }
 },
 "nbformat": 4,
 "nbformat_minor": 5
}
