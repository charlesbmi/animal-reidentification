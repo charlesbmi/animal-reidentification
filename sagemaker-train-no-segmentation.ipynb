{
 "cells": [
  {
   "cell_type": "code",
   "execution_count": null,
   "id": "24367e31",
   "metadata": {},
   "outputs": [],
   "source": [
    "import sagemaker\n",
    "from sagemaker.pytorch import PyTorch\n",
    "from sagemaker.tuner import HyperparameterTuner, IntegerParameter, CategoricalParameter, ContinuousParameter\n",
    "import s3fs\n",
    "\n",
    "import os\n",
    "import json"
   ]
  },
  {
   "cell_type": "code",
   "execution_count": null,
   "id": "827efa28",
   "metadata": {},
   "outputs": [],
   "source": [
    "sagemaker_session = sagemaker.Session()\n",
    "\n",
    "bucket = 'animal-reidentification'\n",
    "\n",
    "role = sagemaker.get_execution_role()"
   ]
  },
  {
   "cell_type": "code",
   "execution_count": null,
   "id": "4bba7728",
   "metadata": {},
   "outputs": [],
   "source": [
    "print(bucket, role)\n",
    "print(os.getcwd())"
   ]
  },
  {
   "cell_type": "code",
   "execution_count": null,
   "id": "03d3bcca",
   "metadata": {},
   "outputs": [],
   "source": [
    "data_location = f's3://{bucket}/data/'\n",
    "annotations_location = f's3://{bucket}/annotations/'\n",
    "\n",
    "print(f'data_location: {data_location}')\n",
    "print(f'annotations_location: {annotations_location}')"
   ]
  },
  {
   "cell_type": "markdown",
   "id": "e48869cd",
   "metadata": {},
   "source": [
    "## For running locally"
   ]
  },
  {
   "cell_type": "markdown",
   "id": "b0b05acc",
   "metadata": {},
   "source": [
    "import os\n",
    "import subprocess\n",
    "\n",
    "local_instance_type = \"local\"\n",
    "\n",
    "try:\n",
    "    if subprocess.call(\"nvidia-smi\") == 0:\n",
    "        ## Set type to GPU if one is present\n",
    "        local_instance_type = \"local_gpu\"\n",
    "except:\n",
    "    pass\n",
    "\n",
    "print(\"local_instance_type = \" + local_instance_type)"
   ]
  },
  {
   "cell_type": "markdown",
   "id": "df28ab9c",
   "metadata": {},
   "source": [
    "## Kick off the instance"
   ]
  },
  {
   "cell_type": "code",
   "execution_count": null,
   "id": "a41e1cd3",
   "metadata": {},
   "outputs": [],
   "source": [
    "from sagemaker.pytorch import PyTorch\n",
    "\n",
    "estimator = PyTorch(entry_point='denseNet201_secondPass.py',\n",
    "                    source_dir='./kevin/',\n",
    "                    framework_version='1.8.0',\n",
    "                    role=role,\n",
    "                    py_version='py3',\n",
    "                    instance_count=1,\n",
    "                    instance_type='ml.g4dn.xlarge', # Sagemaker managed instance\n",
    "#                     instance_type=local_instance_type, # local notebook instance\n",
    "                    hyperparameters={\n",
    "                        'batch-size': 32,\n",
    "                        'epochs': 1,\n",
    "                        'name': 'trialRun_10000tr_1500val_10epoch_batch16',\n",
    "#                         'save-model': True,\n",
    "                    })\n",
    "\n",
    "estimator.fit({\n",
    "    'data': data_location,\n",
    "    'annotations': annotations_location\n",
    "})"
   ]
  },
  {
   "cell_type": "code",
   "execution_count": null,
   "id": "5b6bc48f",
   "metadata": {},
   "outputs": [],
   "source": []
  }
 ],
 "metadata": {
  "kernelspec": {
   "display_name": "conda_pytorch_p36",
   "language": "python",
   "name": "conda_pytorch_p36"
  },
  "language_info": {
   "codemirror_mode": {
    "name": "ipython",
    "version": 3
   },
   "file_extension": ".py",
   "mimetype": "text/x-python",
   "name": "python",
   "nbconvert_exporter": "python",
   "pygments_lexer": "ipython3",
   "version": "3.6.13"
  }
 },
 "nbformat": 4,
 "nbformat_minor": 5
}
