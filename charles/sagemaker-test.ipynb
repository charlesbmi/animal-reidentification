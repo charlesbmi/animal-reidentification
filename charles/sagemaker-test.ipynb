{
 "cells": [
  {
   "cell_type": "code",
   "execution_count": 1,
   "id": "80dabb7f",
   "metadata": {},
   "outputs": [],
   "source": [
    "import sagemaker\n",
    "from sagemaker.pytorch import PyTorch\n",
    "from sagemaker.tuner import HyperparameterTuner, IntegerParameter, CategoricalParameter, ContinuousParameter\n",
    "\n",
    "import os"
   ]
  },
  {
   "cell_type": "code",
   "execution_count": 2,
   "id": "5a23d2ff",
   "metadata": {},
   "outputs": [],
   "source": [
    "sagemaker_session = sagemaker.Session()\n",
    "\n",
    "bucket = 'animal-familiars-mnist-test'\n",
    "prefix = 'sagemaker/pytorch-mnist'\n",
    "\n",
    "role = sagemaker.get_execution_role()"
   ]
  },
  {
   "cell_type": "code",
   "execution_count": 3,
   "id": "1254db35",
   "metadata": {},
   "outputs": [
    {
     "name": "stdout",
     "output_type": "stream",
     "text": [
      "animal-familiars-mnist-test arn:aws:iam::974431750608:role/service-role/AmazonSageMaker-ExecutionRole-20210503T160271\n",
      "/home/ec2-user/SageMaker/ee148b_sagemaker_mnist_public\n"
     ]
    }
   ],
   "source": [
    "print(bucket, role)\n",
    "print(os.getcwd())"
   ]
  },
  {
   "cell_type": "code",
   "execution_count": 4,
   "id": "ec1a8c65",
   "metadata": {},
   "outputs": [],
   "source": [
    "estimator = PyTorch(entry_point='main.py',\n",
    "                    source_dir='./',\n",
    "                    framework_version='1.8.0',\n",
    "                    role=role,\n",
    "                    py_version='py3',\n",
    "                    instance_count=1,\n",
    "                    instance_type='ml.g4dn.xlarge',\n",
    "                    hyperparameters={\n",
    "                        'batch-size': 256,\n",
    "                    })"
   ]
  },
  {
   "cell_type": "code",
   "execution_count": 5,
   "id": "2dffb671",
   "metadata": {},
   "outputs": [],
   "source": [
    "# Define hyperparameter tuning\n",
    "hyperparameter_ranges = {'lr': ContinuousParameter(0.01, 0.2),\n",
    "                         'epochs': IntegerParameter(10, 50)}\n",
    "\n",
    "# TODO: should definitely use validation accuracy here, not test accuracy\n",
    "# But for the sake of trying it out, we use test accuracy here\n",
    "objective_metric_name = 'Test-Accuracy'\n",
    "metric_definitions = [{'Name': 'Test-Accuracy',\n",
    "                       'Regex': 'Test-Accuracy: ([0-9\\\\.]+)'},\n",
    "                      {'Name': 'Test-loss',\n",
    "                       'Regex': 'Test-loss: ([0-9\\\\.]+)'}]"
   ]
  },
  {
   "cell_type": "code",
   "execution_count": 6,
   "id": "290c4a13",
   "metadata": {},
   "outputs": [
    {
     "name": "stdout",
     "output_type": "stream",
     "text": [
      "train_data_location: {train_data_location}\n",
      "test_data_location: {test_data_location}\n"
     ]
    }
   ],
   "source": [
    "train_data_location = f's3://{bucket}/'\n",
    "test_data_location = f's3://{bucket}/'\n",
    "\n",
    "print('train_data_location: {train_data_location}')\n",
    "print('test_data_location: {test_data_location}')"
   ]
  },
  {
   "cell_type": "code",
   "execution_count": null,
   "id": "52ddd10a",
   "metadata": {},
   "outputs": [
    {
     "name": "stdout",
     "output_type": "stream",
     "text": [
      "...................................................................................................................................................................................................................................................."
     ]
    }
   ],
   "source": [
    "tuner = HyperparameterTuner(estimator,\n",
    "                            objective_metric_name,\n",
    "                            hyperparameter_ranges,\n",
    "                            metric_definitions,\n",
    "                            max_jobs=3\n",
    "                           )\n",
    "tuner.fit({'train': train_data_location, 'test': test_data_location})"
   ]
  },
  {
   "cell_type": "code",
   "execution_count": null,
   "id": "68fb39e5",
   "metadata": {},
   "outputs": [],
   "source": [
    "# Print results\n",
    "tuner.analytics()"
   ]
  }
 ],
 "metadata": {
  "kernelspec": {
   "display_name": "conda_pytorch_latest_p36",
   "language": "python",
   "name": "conda_pytorch_latest_p36"
  },
  "language_info": {
   "codemirror_mode": {
    "name": "ipython",
    "version": 3
   },
   "file_extension": ".py",
   "mimetype": "text/x-python",
   "name": "python",
   "nbconvert_exporter": "python",
   "pygments_lexer": "ipython3",
   "version": "3.6.13"
  }
 },
 "nbformat": 4,
 "nbformat_minor": 5
}
