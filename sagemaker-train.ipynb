{
 "cells": [
  {
   "cell_type": "code",
   "execution_count": null,
   "id": "4fef55bb",
   "metadata": {},
   "outputs": [],
   "source": [
    "import sagemaker\n",
    "from sagemaker.pytorch import PyTorch\n",
    "from sagemaker.tuner import HyperparameterTuner, IntegerParameter, CategoricalParameter, ContinuousParameter\n",
    "import s3fs\n",
    "\n",
    "import os\n",
    "import json"
   ]
  },
  {
   "cell_type": "code",
   "execution_count": null,
   "id": "d7067259",
   "metadata": {},
   "outputs": [],
   "source": [
    "sagemaker_session = sagemaker.Session()\n",
    "\n",
    "bucket = 'animal-reidentification'\n",
    "\n",
    "role = sagemaker.get_execution_role()"
   ]
  },
  {
   "cell_type": "code",
   "execution_count": null,
   "id": "8b5d5b80",
   "metadata": {},
   "outputs": [],
   "source": [
    "print(bucket, role)\n",
    "print(os.getcwd())"
   ]
  },
  {
   "cell_type": "code",
   "execution_count": null,
   "id": "90ebe664",
   "metadata": {},
   "outputs": [],
   "source": [
    "data_location = f's3://{bucket}/data/'\n",
    "annotations_location = f's3://{bucket}/annotations/'\n",
    "\n",
    "print(f'data_location: {data_location}')\n",
    "print(f'annotations_location: {annotations_location}')"
   ]
  },
  {
   "cell_type": "markdown",
   "id": "5beb93e3",
   "metadata": {},
   "source": [
    "## Kick off the instance"
   ]
  },
  {
   "cell_type": "code",
   "execution_count": null,
   "id": "d3d086dc",
   "metadata": {},
   "outputs": [],
   "source": [
    "# Set hyperparameters\n",
    "model_name = 'seg_noAug'\n",
    "batch_size = 64\n",
    "num_epochs = 15"
   ]
  },
  {
   "cell_type": "code",
   "execution_count": null,
   "id": "aa47014c",
   "metadata": {},
   "outputs": [],
   "source": [
    "from sagemaker.pytorch import PyTorch\n",
    "\n",
    "estimator = PyTorch(entry_point='denseNet201_v5_augs.py',\n",
    "                    source_dir='./kevin/',\n",
    "                    framework_version='1.8.0',\n",
    "                    role=role,\n",
    "                    py_version='py3',\n",
    "                    instance_count=1,\n",
    "                    instance_type='ml.g4dn.xlarge', # Sagemaker-managed instance\n",
    "                    hyperparameters={\n",
    "                        'batch-size': batch_size,\n",
    "                        'use-seg': True,\n",
    "                        'epochs': num_epochs,\n",
    "                        'name': f'{model_name}_{num_epochs}epoch_batch{batch_size}',\n",
    "                    })\n",
    "\n",
    "estimator.fit({\n",
    "    'data': data_location,\n",
    "    'annotations': annotations_location\n",
    "})"
   ]
  },
  {
   "cell_type": "code",
   "execution_count": null,
   "id": "66a588e7",
   "metadata": {},
   "outputs": [],
   "source": []
  }
 ],
 "metadata": {
  "kernelspec": {
   "display_name": "conda_pytorch_p36",
   "language": "python",
   "name": "conda_pytorch_p36"
  },
  "language_info": {
   "codemirror_mode": {
    "name": "ipython",
    "version": 3
   },
   "file_extension": ".py",
   "mimetype": "text/x-python",
   "name": "python",
   "nbconvert_exporter": "python",
   "pygments_lexer": "ipython3",
   "version": "3.6.13"
  }
 },
 "nbformat": 4,
 "nbformat_minor": 5
}
